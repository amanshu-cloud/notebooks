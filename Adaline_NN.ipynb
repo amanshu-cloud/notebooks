{
  "nbformat": 4,
  "nbformat_minor": 0,
  "metadata": {
    "colab": {
      "name": "Adaline_NN.ipynb",
      "provenance": [],
      "collapsed_sections": [],
      "authorship_tag": "ABX9TyNrrKRJH6jvEK5PkiQQzs2s",
      "include_colab_link": true
    },
    "kernelspec": {
      "name": "python3",
      "display_name": "Python 3"
    }
  },
  "cells": [
    {
      "cell_type": "markdown",
      "metadata": {
        "id": "view-in-github",
        "colab_type": "text"
      },
      "source": [
        "<a href=\"https://colab.research.google.com/github/amanshu-cloud/notebooks/blob/master/Adaline_NN.ipynb\" target=\"_parent\"><img src=\"https://colab.research.google.com/assets/colab-badge.svg\" alt=\"Open In Colab\"/></a>"
      ]
    },
    {
      "cell_type": "code",
      "metadata": {
        "id": "w9tL2LBLVfGS"
      },
      "source": [
        "import numpy as np"
      ],
      "execution_count": 25,
      "outputs": []
    },
    {
      "cell_type": "code",
      "metadata": {
        "id": "2gSBPQPeXkJs"
      },
      "source": [
        "def relu(x):\r\n",
        "  return (x>0)*x\r\n",
        "\r\n",
        "def relu2deriv(output):\r\n",
        "  return output > 0\r\n",
        "\r\n",
        "def tanh(x):\r\n",
        "  return np.tanh(x)\r\n",
        "\r\n",
        "def w_sum(a,b):\r\n",
        "  assert(len(a)==len(b))\r\n",
        "  output = 0\r\n",
        "  for i in range(len(a)):\r\n",
        "    output += a[i]*b[i]\r\n",
        "  return output  \r\n",
        "\r\n",
        "def weight_update(x,vector):\r\n",
        "  output = [0 for i in range(len(vector))]\r\n",
        "  for i in range(len(vector)):\r\n",
        "    output[i] = vector[i]*x\r\n",
        "  \r\n",
        "  return output"
      ],
      "execution_count": 26,
      "outputs": []
    },
    {
      "cell_type": "code",
      "metadata": {
        "id": "_nC5aEs9XmmR"
      },
      "source": [
        "input = [[-1,-1],[-1,1],[1,-1],[1,1]]\r\n",
        "w01 = -0.17364521632745192\r\n",
        "w02 = -0.17364521632745192\r\n",
        "w11 = 0.2\r\n",
        "w12 = 0.2\r\n",
        "dw1,dw2 = (0,0)\r\n",
        "bias = 0.25126903553299496\r\n",
        "target = [1,1,1,-1]\r\n",
        "epoch = 10\r\n",
        "alpha = 0.02\r\n",
        "dif = 0\r\n",
        "error = [0 for i in range(4)]\r\n",
        "\r\n",
        "    "
      ],
      "execution_count": 27,
      "outputs": []
    },
    {
      "cell_type": "code",
      "metadata": {
        "id": "-TSzO43Ldy2M",
        "colab": {
          "base_uri": "https://localhost:8080/"
        },
        "outputId": "25a807b7-97bf-40ee-949b-1b8f877b55cf"
      },
      "source": [
        "import numpy as np\r\n",
        "\r\n",
        "inputs = np.array( [[-1, -1  ],\r\n",
        "                          [ -1, 1],\r\n",
        "                          [1,-1 ],\r\n",
        "                          [ 1, 1 ] ] )\r\n",
        "target = np.array([[ -1, 1, 1, -1]]).T\r\n",
        "np.random.seed(1)\r\n",
        "\r\n",
        "def relu(x):\r\n",
        "    return (x > 0) * x # returns x if x > 0\r\n",
        "                       # return 0 otherwise\r\n",
        "\r\n",
        "def relu2deriv(output):\r\n",
        "    return output>0 # returns 1 for input > 0\r\n",
        "                    # return 0 otherwise\r\n",
        "alpha = 0.2\r\n",
        "hidden_size = 10\r\n",
        "\r\n",
        "weights_0_1 = 2*np.random.random((2,hidden_size)) - 1\r\n",
        "weights_1_2 = 2*np.random.random((hidden_size,1)) - 1\r\n",
        "\r\n",
        "for iteration in range(100):\r\n",
        "   layer_2_error = 0\r\n",
        "   for i in range(len(inputs)):\r\n",
        "      layer_0 = inputs[i:i+1]\r\n",
        "      layer_1 = relu(np.dot(layer_0,weights_0_1))\r\n",
        "      layer_2 = np.dot(layer_1,weights_1_2)\r\n",
        "\r\n",
        "      layer_2_error += np.sum((layer_2 - target[i:i+1]) ** 2)\r\n",
        "\r\n",
        "      layer_2_delta = (target[i:i+1] - layer_2)\r\n",
        "      layer_1_delta=layer_2_delta.dot(weights_1_2.T)*relu2deriv(layer_1)\r\n",
        "\r\n",
        "      weights_1_2 += alpha * layer_1.T.dot(layer_2_delta)\r\n",
        "      weights_0_1 += alpha * layer_0.T.dot(layer_1_delta)\r\n",
        "\r\n",
        "   if(iteration % 10 == 9):\r\n",
        "      print(\"Error:\" + str(layer_2_error))"
      ],
      "execution_count": 42,
      "outputs": [
        {
          "output_type": "stream",
          "text": [
            "Error:0.0001224095801821859\n",
            "Error:8.779996131308636e-13\n",
            "Error:8.657192054026795e-21\n",
            "Error:8.323715145246082e-29\n",
            "Error:1.232595164407831e-32\n",
            "Error:1.232595164407831e-32\n",
            "Error:1.232595164407831e-32\n",
            "Error:1.232595164407831e-32\n",
            "Error:1.232595164407831e-32\n",
            "Error:1.232595164407831e-32\n"
          ],
          "name": "stdout"
        }
      ]
    },
    {
      "cell_type": "code",
      "metadata": {
        "id": "tEJHVRwbmu6k",
        "colab": {
          "base_uri": "https://localhost:8080/"
        },
        "outputId": "00837ccc-3121-452f-da86-3e6db27594b0"
      },
      "source": [
        "w1"
      ],
      "execution_count": 29,
      "outputs": [
        {
          "output_type": "execute_result",
          "data": {
            "text/plain": [
              "-0.35986738956898673"
            ]
          },
          "metadata": {
            "tags": []
          },
          "execution_count": 29
        }
      ]
    },
    {
      "cell_type": "code",
      "metadata": {
        "id": "X2jmPgCwmvlP",
        "colab": {
          "base_uri": "https://localhost:8080/"
        },
        "outputId": "7ed6a5c3-3f62-4a09-cad6-c08fe6bdeb08"
      },
      "source": [
        "w2"
      ],
      "execution_count": 30,
      "outputs": [
        {
          "output_type": "execute_result",
          "data": {
            "text/plain": [
              "-0.36364532847888453"
            ]
          },
          "metadata": {
            "tags": []
          },
          "execution_count": 30
        }
      ]
    },
    {
      "cell_type": "code",
      "metadata": {
        "id": "iVHkGr7HmxAX"
      },
      "source": [
        "def model(w1,w2,bias,input):\r\n",
        "  output = input[0]*w1 + input[1]*w2 +bias\r\n",
        "  return relu(output)"
      ],
      "execution_count": 31,
      "outputs": []
    },
    {
      "cell_type": "code",
      "metadata": {
        "colab": {
          "base_uri": "https://localhost:8080/"
        },
        "id": "lXdiRJ4RI4VE",
        "outputId": "a9062899-c6f2-477d-9d4b-2598a97f3b63"
      },
      "source": [
        "model(w1,w2,bias,[1,1])"
      ],
      "execution_count": 32,
      "outputs": [
        {
          "output_type": "execute_result",
          "data": {
            "text/plain": [
              "-0.0"
            ]
          },
          "metadata": {
            "tags": []
          },
          "execution_count": 32
        }
      ]
    },
    {
      "cell_type": "code",
      "metadata": {
        "id": "fPd_B4CEI-8I"
      },
      "source": [
        "#postlab multilayer perceptron"
      ],
      "execution_count": 33,
      "outputs": []
    },
    {
      "cell_type": "code",
      "metadata": {
        "id": "SQ41HETQ68lj"
      },
      "source": [
        ""
      ],
      "execution_count": 33,
      "outputs": []
    },
    {
      "cell_type": "code",
      "metadata": {
        "id": "BrEGmS1ocUDj"
      },
      "source": [
        ""
      ],
      "execution_count": 33,
      "outputs": []
    }
  ]
}